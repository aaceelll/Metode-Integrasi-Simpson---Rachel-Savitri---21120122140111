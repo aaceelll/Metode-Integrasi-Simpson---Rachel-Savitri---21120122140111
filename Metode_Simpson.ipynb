{
  "nbformat": 4,
  "nbformat_minor": 0,
  "metadata": {
    "colab": {
      "provenance": [],
      "toc_visible": true,
      "authorship_tag": "ABX9TyOxMK0rXWdgEoaLbtbthOBl",
      "include_colab_link": true
    },
    "kernelspec": {
      "name": "python3",
      "display_name": "Python 3"
    },
    "language_info": {
      "name": "python"
    }
  },
  "cells": [
    {
      "cell_type": "markdown",
      "metadata": {
        "id": "view-in-github",
        "colab_type": "text"
      },
      "source": [
        "<a href=\"https://colab.research.google.com/github/aaceelll/Metode-Integrasi-Simpson---Rachel-Savitri---21120122140111/blob/main/Metode_Simpson.ipynb\" target=\"_parent\"><img src=\"https://colab.research.google.com/assets/colab-badge.svg\" alt=\"Open In Colab\"/></a>"
      ]
    },
    {
      "cell_type": "markdown",
      "source": [
        "Rachel Savitri - 21120122140111 - Kelas C"
      ],
      "metadata": {
        "id": "Y_9iqu9Ibd3k"
      }
    },
    {
      "cell_type": "markdown",
      "source": [
        "Metode Simpson 1/3"
      ],
      "metadata": {
        "id": "WTWUgL--bnVj"
      }
    },
    {
      "cell_type": "code",
      "execution_count": 1,
      "metadata": {
        "colab": {
          "base_uri": "https://localhost:8080/"
        },
        "id": "JvSq-Y2Ibbp-",
        "outputId": "e7590682-4ced-4225-fef9-05d6faf06b00"
      },
      "outputs": [
        {
          "output_type": "stream",
          "name": "stdout",
          "text": [
            "N = 10:\n",
            "  Estimated Pi = 3.1415926139392147\n",
            "  RMS Error = 3.9650578376182466e-08\n",
            "  Execution Time = 2.7418136596679688e-05 seconds\n",
            "\n",
            "N = 100:\n",
            "  Estimated Pi = 3.1415926535897545\n",
            "  RMS Error = 3.863576125695545e-14\n",
            "  Execution Time = 7.319450378417969e-05 seconds\n",
            "\n",
            "N = 1000:\n",
            "  Estimated Pi = 3.1415926535897913\n",
            "  RMS Error = 1.7763568394002505e-15\n",
            "  Execution Time = 0.0007622241973876953 seconds\n",
            "\n",
            "N = 10000:\n",
            "  Estimated Pi = 3.141592653589807\n",
            "  RMS Error = 1.3766765505351941e-14\n",
            "  Execution Time = 0.007527828216552734 seconds\n",
            "\n"
          ]
        }
      ],
      "source": [
        "import numpy as np\n",
        "import time\n",
        "import math\n",
        "\n",
        "# Fungsi yang akan diintegrasikan\n",
        "def f(x):\n",
        "    return 4 / (1 + x**2)\n",
        "\n",
        "# Metode Simpson 1/3\n",
        "def simpson_integration(a, b, n):\n",
        "    h = (b - a) / n\n",
        "    integral = f(a) + f(b)\n",
        "    for i in range(1, n):\n",
        "        x = a + i * h\n",
        "        if i % 2 == 0:\n",
        "            integral += 2 * f(x)\n",
        "        else:\n",
        "            integral += 4 * f(x)\n",
        "    integral *= h / 3\n",
        "    return integral\n",
        "\n",
        "# Menghitung galat RMS\n",
        "def rms_error(estimated, actual):\n",
        "    return np.sqrt((estimated - actual) ** 2)\n",
        "\n",
        "# Nilai referensi pi\n",
        "pi_ref = 3.14159265358979323846\n",
        "\n",
        "# Variasi nilai N\n",
        "N_values = [10, 100, 1000, 10000]\n",
        "\n",
        "# Loop untuk menghitung integral, galat RMS, dan waktu eksekusi untuk setiap N\n",
        "results = []\n",
        "for N in N_values:\n",
        "    start_time = time.time()\n",
        "    estimated_pi = simpson_integration(0, 1, N)\n",
        "    end_time = time.time()\n",
        "    rms = rms_error(estimated_pi, pi_ref)\n",
        "    execution_time = end_time - start_time\n",
        "    results.append((N, estimated_pi, rms, execution_time))\n",
        "\n",
        "# Menampilkan hasil\n",
        "for result in results:\n",
        "    N, estimated_pi, rms, execution_time = result\n",
        "    print(f'N = {N}:')\n",
        "    print(f'  Estimated Pi = {estimated_pi}')\n",
        "    print(f'  RMS Error = {rms}')\n",
        "    print(f'  Execution Time = {execution_time} seconds')\n",
        "    print()\n"
      ]
    }
  ]
}