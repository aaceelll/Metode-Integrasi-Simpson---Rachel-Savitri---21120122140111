{
  "nbformat": 4,
  "nbformat_minor": 0,
  "metadata": {
    "colab": {
      "provenance": [],
      "toc_visible": true,
      "authorship_tag": "ABX9TyNvem2UMxHBYd7JwkZvNq4l",
      "include_colab_link": true
    },
    "kernelspec": {
      "name": "python3",
      "display_name": "Python 3"
    },
    "language_info": {
      "name": "python"
    }
  },
  "cells": [
    {
      "cell_type": "markdown",
      "metadata": {
        "id": "view-in-github",
        "colab_type": "text"
      },
      "source": [
        "<a href=\"https://colab.research.google.com/github/aaceelll/Metode-Integrasi-Trapezoid---Rachel-Savitri---21120122140111/blob/main/Metode_Trapezoid.ipynb\" target=\"_parent\"><img src=\"https://colab.research.google.com/assets/colab-badge.svg\" alt=\"Open In Colab\"/></a>"
      ]
    },
    {
      "cell_type": "markdown",
      "source": [
        "Rachel Savitri - 21120122140111 - Kelas C"
      ],
      "metadata": {
        "id": "Y_9iqu9Ibd3k"
      }
    },
    {
      "cell_type": "markdown",
      "source": [
        "Metode Integrasi Trapezoid"
      ],
      "metadata": {
        "id": "WTWUgL--bnVj"
      }
    },
    {
      "cell_type": "code",
      "execution_count": 1,
      "metadata": {
        "colab": {
          "base_uri": "https://localhost:8080/"
        },
        "id": "JvSq-Y2Ibbp-",
        "outputId": "391bba0b-b1db-4013-bfc9-8b992474eba3"
      },
      "outputs": [
        {
          "output_type": "stream",
          "name": "stdout",
          "text": [
            "N = 10, Estimated Pi = 3.1399259889071587, RMS Error = 0.0016666646826344333, Execution Time = 0.00021767616271972656 seconds\n",
            "N = 100, Estimated Pi = 3.141575986923129, RMS Error = 1.6666666664111318e-05, Execution Time = 9.894371032714844e-05 seconds\n",
            "N = 1000, Estimated Pi = 3.141592486923127, RMS Error = 1.6666666624587378e-07, Execution Time = 0.00045609474182128906 seconds\n",
            "N = 10000, Estimated Pi = 3.1415926519231263, RMS Error = 1.666666804567285e-09, Execution Time = 0.0003120899200439453 seconds\n"
          ]
        }
      ],
      "source": [
        "import numpy as np\n",
        "import time\n",
        "\n",
        "# Fungsi yang akan diintegralkan\n",
        "def f(x):\n",
        "    return 4 / (1 + x**2)\n",
        "\n",
        "# Metode Integrasi Trapezoid\n",
        "def trapezoid_integration(a, b, N):\n",
        "    x = np.linspace(a, b, N+1)\n",
        "    y = f(x)\n",
        "    h = (b - a) / N #Lebar setiap subinterval\n",
        "    integral = (h / 2) * (y[0] + 2 * np.sum(y[1:-1]) + y[-1])\n",
        "    return integral\n",
        "\n",
        "# Menghitung RMS galat\n",
        "def rms_error(estimated_pi, true_pi):\n",
        "    return np.sqrt((estimated_pi - true_pi)**2)\n",
        "\n",
        "# Nilai referensi pi\n",
        "true_pi = 3.14159265358979323846\n",
        "\n",
        "# Variasi nilai N\n",
        "N_values = [10, 100, 1000, 10000]\n",
        "\n",
        "# Pengujian dan pengukuran waktu eksekusi\n",
        "results = []\n",
        "\n",
        "for N in N_values:\n",
        "    start_time = time.time()\n",
        "    estimated_pi = trapezoid_integration(0, 1, N)\n",
        "    end_time = time.time()\n",
        "\n",
        "    rms = rms_error(estimated_pi, true_pi)\n",
        "    exec_time = end_time - start_time\n",
        "\n",
        "    results.append((N, estimated_pi, rms, exec_time))\n",
        "\n",
        "# Hasil yang Akan Ditampilkan\n",
        "for result in results:\n",
        "    N, estimated_pi, rms, exec_time = result\n",
        "    print(f\"N = {N}, Estimated Pi = {estimated_pi}, RMS Error = {rms}, Execution Time = {exec_time} seconds\")"
      ]
    }
  ]
}